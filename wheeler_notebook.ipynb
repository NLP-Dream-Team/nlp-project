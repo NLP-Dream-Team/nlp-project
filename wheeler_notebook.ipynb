{
 "cells": [
  {
   "cell_type": "code",
   "execution_count": 3,
   "metadata": {},
   "outputs": [],
   "source": [
    "import requests\n",
    "import json\n",
    "from bs4 import BeautifulSoup\n",
    "import pandas as pd\n",
    "import numpy as np\n",
    "import time\n",
    "from prepare import basic_clean, tokenize, lemmatize, stem, remove_stopwords, prep_repo_data, split_data\n",
    "import re"
   ]
  },
  {
   "cell_type": "code",
   "execution_count": 4,
   "metadata": {},
   "outputs": [],
   "source": [
    "def get_repo_names():\n",
    "    repo_names = []\n",
    "\n",
    "    for page in range(1,10):\n",
    "        print(f'Scraping page {page}...')\n",
    "        link = f'https://github.com/search?p={page}&q=zombie&type=Repositories'\n",
    "        print(f'Address: {link}')\n",
    "        response = requests.get(link, headers={'user-agent': 'Codeup DS Hopper'})\n",
    "        soup = BeautifulSoup(response.text)\n",
    "        print(f\"First repository on page... {soup.find_all('a',class_='v-align-middle')[0]['href']}\")\n",
    "        time.sleep(5)\n",
    "        for repository in range(0,len(soup.find_all('a',class_='v-align-middle'))):\n",
    "            repo_names.append(soup.find_all('a', class_='v-align-middle')[repository]['href'])\n",
    "    time.sleep(10)\n",
    "\n",
    "    for page in range(11,20):\n",
    "        print(f'Scraping page {page}...')\n",
    "        link = f'https://github.com/search?p={page}&q=zombie&type=Repositories'\n",
    "        print(f'Address: {link}')\n",
    "        response = requests.get(link, headers={'user-agent': 'Codeup DS Hopper'})\n",
    "        soup = BeautifulSoup(response.text)\n",
    "        print(f\"First repository on page... {soup.find_all('a',class_='v-align-middle')[0]['href']}\")\n",
    "        time.sleep(5)\n",
    "        for repository in range(0,len(soup.find_all('a',class_='v-align-middle'))):\n",
    "            repo_names.append(soup.find_all('a', class_='v-align-middle')[repository]['href'])\n",
    "    return repo_names"
   ]
  },
  {
   "cell_type": "code",
   "execution_count": 5,
   "metadata": {},
   "outputs": [],
   "source": [
    "# repo_names = get_repo_names()\n",
    "# repo_names"
   ]
  },
  {
   "cell_type": "code",
   "execution_count": 6,
   "metadata": {},
   "outputs": [
    {
     "data": {
      "text/html": [
       "<div>\n",
       "<style scoped>\n",
       "    .dataframe tbody tr th:only-of-type {\n",
       "        vertical-align: middle;\n",
       "    }\n",
       "\n",
       "    .dataframe tbody tr th {\n",
       "        vertical-align: top;\n",
       "    }\n",
       "\n",
       "    .dataframe thead th {\n",
       "        text-align: right;\n",
       "    }\n",
       "</style>\n",
       "<table border=\"1\" class=\"dataframe\">\n",
       "  <thead>\n",
       "    <tr style=\"text-align: right;\">\n",
       "      <th></th>\n",
       "      <th>repo</th>\n",
       "      <th>language</th>\n",
       "      <th>readme_contents</th>\n",
       "    </tr>\n",
       "  </thead>\n",
       "  <tbody>\n",
       "    <tr>\n",
       "      <th>0</th>\n",
       "      <td>assaf/zombie</td>\n",
       "      <td>JavaScript</td>\n",
       "      <td># Zombie.js\\n### Insanely fast, headless full-...</td>\n",
       "    </tr>\n",
       "    <tr>\n",
       "      <th>1</th>\n",
       "      <td>IAIK/ZombieLoad</td>\n",
       "      <td>C</td>\n",
       "      <td># ZombieLoad PoC\\n\\nThis repository contains s...</td>\n",
       "    </tr>\n",
       "    <tr>\n",
       "      <th>2</th>\n",
       "      <td>marblexu/PythonPlantsVsZombies</td>\n",
       "      <td>Python</td>\n",
       "      <td># Python版植物大战僵尸\\n  一个简单的植物大战僵尸游戏。\\n  \\n  `仅供个人...</td>\n",
       "    </tr>\n",
       "    <tr>\n",
       "      <th>3</th>\n",
       "      <td>amazon-archives/aws-lambda-zombie-workshop</td>\n",
       "      <td>JavaScript</td>\n",
       "      <td># This workshop is no longer actively being ma...</td>\n",
       "    </tr>\n",
       "    <tr>\n",
       "      <th>4</th>\n",
       "      <td>ErLinErYi/PlantsVsZombies</td>\n",
       "      <td>C++</td>\n",
       "      <td># PlantsVsZombies\\n[[English]](README_en_us.md...</td>\n",
       "    </tr>\n",
       "  </tbody>\n",
       "</table>\n",
       "</div>"
      ],
      "text/plain": [
       "                                         repo    language  \\\n",
       "0                                assaf/zombie  JavaScript   \n",
       "1                             IAIK/ZombieLoad           C   \n",
       "2              marblexu/PythonPlantsVsZombies      Python   \n",
       "3  amazon-archives/aws-lambda-zombie-workshop  JavaScript   \n",
       "4                   ErLinErYi/PlantsVsZombies         C++   \n",
       "\n",
       "                                     readme_contents  \n",
       "0  # Zombie.js\\n### Insanely fast, headless full-...  \n",
       "1  # ZombieLoad PoC\\n\\nThis repository contains s...  \n",
       "2  # Python版植物大战僵尸\\n  一个简单的植物大战僵尸游戏。\\n  \\n  `仅供个人...  \n",
       "3  # This workshop is no longer actively being ma...  \n",
       "4  # PlantsVsZombies\\n[[English]](README_en_us.md...  "
      ]
     },
     "execution_count": 6,
     "metadata": {},
     "output_type": "execute_result"
    }
   ],
   "source": [
    "df = pd.read_json('data.json')\n",
    "df.head()"
   ]
  },
  {
   "cell_type": "code",
   "execution_count": 7,
   "metadata": {},
   "outputs": [],
   "source": [
    "# df['clean'] = [tokenize(basic_clean(readme)) for readme in df.readme_contents]"
   ]
  },
  {
   "cell_type": "code",
   "execution_count": 8,
   "metadata": {},
   "outputs": [],
   "source": [
    "# df['clean'] = [re.sub('[\\n]','', readme) for readme in df.clean]"
   ]
  },
  {
   "cell_type": "code",
   "execution_count": 9,
   "metadata": {},
   "outputs": [],
   "source": [
    "# df['stemmed'] = [remove_stopwords(stem(readme)) for readme in df.clean]"
   ]
  },
  {
   "cell_type": "code",
   "execution_count": 10,
   "metadata": {},
   "outputs": [],
   "source": [
    "# df['lemmatized'] = [remove_stopwords(lemmatize(readme)) for readme in df.clean]"
   ]
  },
  {
   "cell_type": "code",
   "execution_count": 11,
   "metadata": {},
   "outputs": [
    {
     "name": "stderr",
     "output_type": "stream",
     "text": [
      "/Users/joshua/codeup-data-science/nlp-project/prepare.py:126: SettingWithCopyWarning: \n",
      "A value is trying to be set on a copy of a slice from a DataFrame\n",
      "\n",
      "See the caveats in the documentation: https://pandas.pydata.org/pandas-docs/stable/user_guide/indexing.html#returning-a-view-versus-a-copy\n",
      "  df.drop_duplicates(inplace=True)\n",
      "/Users/joshua/codeup-data-science/nlp-project/prepare.py:129: SettingWithCopyWarning: \n",
      "A value is trying to be set on a copy of a slice from a DataFrame\n",
      "\n",
      "See the caveats in the documentation: https://pandas.pydata.org/pandas-docs/stable/user_guide/indexing.html#returning-a-view-versus-a-copy\n",
      "  df.dropna(inplace=True)\n"
     ]
    }
   ],
   "source": [
    "df = prep_repo_data(df)"
   ]
  },
  {
   "cell_type": "code",
   "execution_count": 18,
   "metadata": {},
   "outputs": [
    {
     "data": {
      "text/plain": [
       "JavaScript    23\n",
       "C#            22\n",
       "SourcePawn    20\n",
       "PHP           20\n",
       "HTML          20\n",
       "C             20\n",
       "C++           16\n",
       "Java          15\n",
       "Lua           11\n",
       "Python        11\n",
       "Ruby          10\n",
       "Name: language, dtype: int64"
      ]
     },
     "execution_count": 18,
     "metadata": {},
     "output_type": "execute_result"
    }
   ],
   "source": [
    "df.language.value_counts()"
   ]
  },
  {
   "cell_type": "code",
   "execution_count": 13,
   "metadata": {},
   "outputs": [],
   "source": [
    "# languages = df.language.value_counts()[df.language.value_counts() >= 11].index.to_list()\n",
    "# df = df[df.language.isin(languages)]"
   ]
  },
  {
   "cell_type": "code",
   "execution_count": 14,
   "metadata": {},
   "outputs": [],
   "source": [
    "# df.drop_duplicates(inplace=True)"
   ]
  },
  {
   "cell_type": "code",
   "execution_count": 15,
   "metadata": {},
   "outputs": [],
   "source": [
    "# df.language.value_counts()"
   ]
  },
  {
   "cell_type": "code",
   "execution_count": 16,
   "metadata": {},
   "outputs": [],
   "source": [
    "# languages = ['HTML','SourcePawn','C','PHP','Ruby']\n",
    "# repo_names = []\n",
    "\n",
    "# for page in range(1,10):\n",
    "#     for language in languages:\n",
    "#         print(f'Scraping page {page} of {language}...')\n",
    "#         link = f'https://github.com/search?l={language}&p={page}&q=zombie&type=Repositories'\n",
    "#         print(f'Address: {link}')\n",
    "#         response = requests.get(link, headers={'user-agent': 'Codeup DS Hopper'})\n",
    "#         soup = BeautifulSoup(response.text)\n",
    "#         print(f\"First repository on page... {soup.find_all('a',class_='v-align-middle')[0]['href']}\")\n",
    "#         time.sleep(5)\n",
    "#         for repository in range(0,len(soup.find_all('a',class_='v-align-middle'))):\n",
    "#             repo_names.append(soup.find_all('a', class_='v-align-middle')[repository]['href'])\n",
    "# time.sleep(10)\n",
    "\n",
    "\n",
    "# for page in range(11,20):\n",
    "#     for language in languages:\n",
    "#         print(f'Scraping page {page} of {language}...')\n",
    "#         link = f'https://github.com/search?l={language}&p={page}&q=zombie&type=Repositories'\n",
    "#         print(f'Address: {link}')\n",
    "#         response = requests.get(link, headers={'user-agent': 'Codeup DS Hopper'})\n",
    "#         soup = BeautifulSoup(response.text)\n",
    "#         print(f\"First repository on page... {soup.find_all('a',class_='v-align-middle')[0]['href']}\")\n",
    "#         time.sleep(5)\n",
    "#         for repository in range(0,len(soup.find_all('a',class_='v-align-middle'))):\n",
    "#             repo_names.append(soup.find_all('a', class_='v-align-middle')[repository]['href'])"
   ]
  },
  {
   "cell_type": "code",
   "execution_count": 17,
   "metadata": {},
   "outputs": [],
   "source": [
    "# repo_names"
   ]
  },
  {
   "cell_type": "code",
   "execution_count": 19,
   "metadata": {},
   "outputs": [
    {
     "ename": "ValueError",
     "evalue": "too many values to unpack (expected 2)",
     "output_type": "error",
     "traceback": [
      "\u001b[0;31m---------------------------------------------------------------------------\u001b[0m",
      "\u001b[0;31mValueError\u001b[0m                                Traceback (most recent call last)",
      "\u001b[0;32m<ipython-input-19-f7e32bf25e2d>\u001b[0m in \u001b[0;36m<module>\u001b[0;34m\u001b[0m\n\u001b[0;32m----> 1\u001b[0;31m \u001b[0mtrain\u001b[0m\u001b[0;34m,\u001b[0m \u001b[0mvalidate\u001b[0m\u001b[0;34m,\u001b[0m \u001b[0mtest\u001b[0m \u001b[0;34m=\u001b[0m \u001b[0msplit_data\u001b[0m\u001b[0;34m(\u001b[0m\u001b[0mdf\u001b[0m\u001b[0;34m)\u001b[0m\u001b[0;34m\u001b[0m\u001b[0;34m\u001b[0m\u001b[0m\n\u001b[0m",
      "\u001b[0;32m~/codeup-data-science/nlp-project/prepare.py\u001b[0m in \u001b[0;36msplit_data\u001b[0;34m(df)\u001b[0m\n\u001b[1;32m    137\u001b[0m     \u001b[0mX\u001b[0m \u001b[0;34m=\u001b[0m \u001b[0mtfidf\u001b[0m\u001b[0;34m.\u001b[0m\u001b[0mfit_transform\u001b[0m\u001b[0;34m(\u001b[0m\u001b[0mdf\u001b[0m\u001b[0;34m.\u001b[0m\u001b[0mlemmatized\u001b[0m\u001b[0;34m)\u001b[0m\u001b[0;34m\u001b[0m\u001b[0;34m\u001b[0m\u001b[0m\n\u001b[1;32m    138\u001b[0m     \u001b[0my\u001b[0m \u001b[0;34m=\u001b[0m \u001b[0mdf\u001b[0m\u001b[0;34m.\u001b[0m\u001b[0mlanguage\u001b[0m\u001b[0;34m\u001b[0m\u001b[0;34m\u001b[0m\u001b[0m\n\u001b[0;32m--> 139\u001b[0;31m     \u001b[0mtrain\u001b[0m\u001b[0;34m,\u001b[0m \u001b[0mtest\u001b[0m \u001b[0;34m=\u001b[0m \u001b[0mtrain_test_split\u001b[0m\u001b[0;34m(\u001b[0m\u001b[0mX\u001b[0m\u001b[0;34m,\u001b[0m\u001b[0my\u001b[0m\u001b[0;34m,\u001b[0m \u001b[0mtest_size\u001b[0m \u001b[0;34m=\u001b[0m \u001b[0;36m.2\u001b[0m\u001b[0;34m,\u001b[0m \u001b[0mstratify\u001b[0m \u001b[0;34m=\u001b[0m \u001b[0mdf\u001b[0m\u001b[0;34m.\u001b[0m\u001b[0mlanguage\u001b[0m\u001b[0;34m,\u001b[0m \u001b[0mrandom_state\u001b[0m \u001b[0;34m=\u001b[0m \u001b[0;36m222\u001b[0m\u001b[0;34m)\u001b[0m\u001b[0;34m\u001b[0m\u001b[0;34m\u001b[0m\u001b[0m\n\u001b[0m\u001b[1;32m    140\u001b[0m     \u001b[0mtrain\u001b[0m\u001b[0;34m,\u001b[0m \u001b[0mvalidate\u001b[0m \u001b[0;34m=\u001b[0m \u001b[0mtrain_test_split\u001b[0m\u001b[0;34m(\u001b[0m\u001b[0mX\u001b[0m\u001b[0;34m,\u001b[0m\u001b[0my\u001b[0m\u001b[0;34m,\u001b[0m \u001b[0mtest_size\u001b[0m \u001b[0;34m=\u001b[0m \u001b[0;36m.3\u001b[0m\u001b[0;34m,\u001b[0m \u001b[0mstratify\u001b[0m \u001b[0;34m=\u001b[0m \u001b[0mtrain\u001b[0m\u001b[0;34m.\u001b[0m\u001b[0mlanguage\u001b[0m\u001b[0;34m,\u001b[0m \u001b[0mrandom_state\u001b[0m \u001b[0;34m=\u001b[0m \u001b[0;36m222\u001b[0m\u001b[0;34m)\u001b[0m\u001b[0;34m\u001b[0m\u001b[0;34m\u001b[0m\u001b[0m\n\u001b[1;32m    141\u001b[0m     \u001b[0;32mreturn\u001b[0m \u001b[0mtrain\u001b[0m\u001b[0;34m,\u001b[0m \u001b[0mvalidate\u001b[0m\u001b[0;34m,\u001b[0m \u001b[0mtest\u001b[0m\u001b[0;34m\u001b[0m\u001b[0;34m\u001b[0m\u001b[0m\n",
      "\u001b[0;31mValueError\u001b[0m: too many values to unpack (expected 2)"
     ]
    }
   ],
   "source": [
    "train, validate, test = split_data(df)"
   ]
  },
  {
   "cell_type": "code",
   "execution_count": null,
   "metadata": {},
   "outputs": [],
   "source": []
  }
 ],
 "metadata": {
  "interpreter": {
   "hash": "38cca0c38332a56087b24af0bc80247f4fced29cb4f7f437d91dc159adec9c4e"
  },
  "kernelspec": {
   "display_name": "Python 3.8.8 ('base')",
   "language": "python",
   "name": "python3"
  },
  "language_info": {
   "codemirror_mode": {
    "name": "ipython",
    "version": 3
   },
   "file_extension": ".py",
   "mimetype": "text/x-python",
   "name": "python",
   "nbconvert_exporter": "python",
   "pygments_lexer": "ipython3",
   "version": "3.8.8"
  },
  "orig_nbformat": 4
 },
 "nbformat": 4,
 "nbformat_minor": 2
}
