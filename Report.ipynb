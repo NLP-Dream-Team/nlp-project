{
 "cells": [
  {
   "cell_type": "markdown",
   "id": "9cc733dd",
   "metadata": {},
   "source": [
    "# Predicting Languages with READMEs\n",
    "\n",
    "Rajaram Gautam   \n",
    "Mason Sherbondy   \n",
    "Sophia Stewart   \n",
    "Joshua Wheeler\n",
    "\n",
    "February 11, 2022\n",
    "\n",
    "---\n",
    "## Executive Summary\n",
    "The goal of this project is to determine what language is primarily used in a repository based only on the contents of that repository's README file.\n",
    "\n",
    "---\n",
    "## Data Wrangling\n",
    "\n",
    "We decided to use repositories that came up in a GitHub search for the word 'zombie'. We acquired the data using Zach Gulde's functions for acquiring data using GitHub's API as well as some functions defined by our group to acquire the names of the repositories. To prepare our data, we removed those repositories which had non-English characters. We then normalized, tokenized, stemmed, lemmatized, and removed stopwords from each README. Before moving on to our data exploration, we split our dataset into train, validate, and test samples."
   ]
  },
  {
   "cell_type": "code",
   "execution_count": null,
   "id": "f9b0ab18",
   "metadata": {},
   "outputs": [],
   "source": [
    "from acquire import \n",
    "from prepare import\n",
    "import pandas as pd\n",
    "import matplotlib.pyplot as plt\n",
    "import seaborn as sns\n",
    "from wordcloud import WordCloud"
   ]
  },
  {
   "cell_type": "code",
   "execution_count": null,
   "id": "52791918",
   "metadata": {},
   "outputs": [],
   "source": []
  },
  {
   "cell_type": "code",
   "execution_count": null,
   "id": "63e0f025",
   "metadata": {},
   "outputs": [],
   "source": []
  },
  {
   "cell_type": "markdown",
   "id": "d3d67a7f",
   "metadata": {},
   "source": [
    "## Exploratory Data Analysis\n",
    "\n",
    "### Question 1: What is the distribution of our Inverse Document Frequencies for the most common words?"
   ]
  },
  {
   "cell_type": "code",
   "execution_count": null,
   "id": "55899580",
   "metadata": {},
   "outputs": [],
   "source": [
    "# insert frequency visualizations from Josh's notebook"
   ]
  },
  {
   "cell_type": "code",
   "execution_count": null,
   "id": "a2ca66e9",
   "metadata": {},
   "outputs": [],
   "source": []
  },
  {
   "cell_type": "markdown",
   "id": "7b5522f8",
   "metadata": {},
   "source": [
    "### Answer 1: The majority of our top words do not have a distribution that is helpful, as most of these values are 0.\n",
    "\n",
    "### Question 2: Does the length of the README vary by programming language?\n",
    "\n",
    "#### $H_{0}$: Average message length for languages is about the same.\n",
    "#### $H_{a}$: Average message length between languages is significantly different."
   ]
  },
  {
   "cell_type": "code",
   "execution_count": null,
   "id": "8e4172ac",
   "metadata": {},
   "outputs": [],
   "source": []
  },
  {
   "cell_type": "code",
   "execution_count": null,
   "id": "533c7c46",
   "metadata": {},
   "outputs": [],
   "source": []
  },
  {
   "cell_type": "markdown",
   "id": "8e9fb83c",
   "metadata": {},
   "source": [
    "### Answer 2: \n",
    "\n",
    "### Question 3: Do different programming languages use a different number of unique words?"
   ]
  },
  {
   "cell_type": "markdown",
   "id": "a545afc0",
   "metadata": {},
   "source": [
    "Javascript: AWS, stack, response, topic, gateway, endpoint  \n",
    "HTML: integration, workshop, **h1, align,** center, homepage, firefox, implementation  \n",
    "C#: learning, watching, factor, pickup, animation, fire (maybe used more for modding)  \n",
    "PHP: addition, kevin, bundle (not too many in training set)  \n",
    "C: victim, variant, linux, letter, cpu(also used a lot in ruby), memory, block, **sudo** (potentially also more used for video game mods)\n",
    "SourcePawn: plugins, csgo(name of game), bos, force, sourcemod  \n",
    "C++: online (not many repos)  \n",
    "Java: door, plant, sun, storage, private, endpoint, **maven** (likely used for modding)\n",
    "Python: given, shotgun, exists, specified, dictionary, codeblock, allowed  \n",
    "Lua: plague, gamemode, language, infection (game mods)  \n",
    "Ruby: rail, rake, generated, report, csv(?), paragraph, parse"
   ]
  },
  {
   "cell_type": "markdown",
   "id": "7671796b",
   "metadata": {},
   "source": [
    "### Answer 3: Yes, different programming languages use a different number of unique words.\n",
    "\n",
    "### Question 4:"
   ]
  },
  {
   "cell_type": "code",
   "execution_count": null,
   "id": "17adc2c9",
   "metadata": {},
   "outputs": [],
   "source": []
  },
  {
   "cell_type": "code",
   "execution_count": null,
   "id": "715dd0e3",
   "metadata": {},
   "outputs": [],
   "source": []
  },
  {
   "cell_type": "markdown",
   "id": "8e919f62",
   "metadata": {},
   "source": [
    "### Answer 4: \n",
    "\n",
    "\n",
    "### Data Exploration Takeaways:\n",
    "\n",
    "\n",
    "\n",
    "## Modeling\n",
    "\n",
    "For our baseline prediction, we decided to use JavaScript. We made this decision because JavaScript appears most frequently in our dataset, along with C#.\n",
    "\n",
    "For all of our models, the features we included were TF-IDF, word count, and character count.\n",
    "\n",
    "### Baseline\n",
    "- Always predict JavaScript\n",
    "- 12% Accuracy on Train\n",
    "- 13% Accuracy on Validate"
   ]
  },
  {
   "cell_type": "code",
   "execution_count": null,
   "id": "28aff2b5",
   "metadata": {},
   "outputs": [],
   "source": []
  },
  {
   "cell_type": "markdown",
   "id": "a6292328",
   "metadata": {},
   "source": [
    "### Model 1: Logistic Regression\n",
    "- Default hyperparameters\n",
    "- 23% Accuracy on Train\n",
    "- 20.45% Accuracy on Validate"
   ]
  },
  {
   "cell_type": "code",
   "execution_count": null,
   "id": "418b4626",
   "metadata": {},
   "outputs": [],
   "source": []
  },
  {
   "cell_type": "markdown",
   "id": "0d8d6ac3",
   "metadata": {},
   "source": [
    "### Model 2: Random Forest\n",
    "- max_depth = 5\n",
    "- 28% Accuracy on Train\n",
    "- 13.64% Accuracy on Validate"
   ]
  },
  {
   "cell_type": "code",
   "execution_count": null,
   "id": "37d5b955",
   "metadata": {},
   "outputs": [],
   "source": []
  },
  {
   "cell_type": "markdown",
   "id": "c386fd87",
   "metadata": {},
   "source": [
    "### Model 3: Decision Tree\n",
    "- max_depth = 5\n",
    "- 31% Accuracy on Train\n",
    "- 9% Accuracy on Validate"
   ]
  },
  {
   "cell_type": "code",
   "execution_count": null,
   "id": "f19a90c5",
   "metadata": {},
   "outputs": [],
   "source": []
  },
  {
   "cell_type": "code",
   "execution_count": null,
   "id": "0610dd6a",
   "metadata": {},
   "outputs": [],
   "source": []
  },
  {
   "cell_type": "markdown",
   "id": "7185fa1a",
   "metadata": {},
   "source": [
    "### Takeaways:\n",
    "- Our Decision Tree model was clearly overfit as it performed better than any other model on train but it had extremely poor performance on validate.\n",
    "- Both of our other models also performed better on train than validate but our Logistic Regression model seemed to be the least overfit as there was less of a difference in accuracy between train and validate.\n",
    "- The Logistic Regression model performed best on the validate sample\n",
    "- **Our best model is the Logistic Regression model**\n",
    "\n",
    "### Evaluating the Best Model on Test\n",
    "- 13.51% Accuracy on Test\n",
    "- Baseline 10.8% Accuracy on Test"
   ]
  },
  {
   "cell_type": "code",
   "execution_count": null,
   "id": "38fa8dc2",
   "metadata": {},
   "outputs": [],
   "source": []
  },
  {
   "cell_type": "markdown",
   "id": "3be9e63d",
   "metadata": {},
   "source": [
    "---\n",
    "## Conclusion\n",
    "\n",
    "The combination of machine learning and zombie-related repositories did not provide for very useful predictions.\n",
    "\n",
    "### Next Steps\n",
    "With more time we would like to train our models using more repositories with a greater variety of subjects."
   ]
  }
 ],
 "metadata": {
  "kernelspec": {
   "display_name": "Python 3",
   "language": "python",
   "name": "python3"
  },
  "language_info": {
   "codemirror_mode": {
    "name": "ipython",
    "version": 3
   },
   "file_extension": ".py",
   "mimetype": "text/x-python",
   "name": "python",
   "nbconvert_exporter": "python",
   "pygments_lexer": "ipython3",
   "version": "3.8.8"
  }
 },
 "nbformat": 4,
 "nbformat_minor": 5
}
